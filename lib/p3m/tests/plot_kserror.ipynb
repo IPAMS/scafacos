{
 "metadata": {
  "name": ""
 },
 "nbformat": 3,
 "nbformat_minor": 0,
 "worksheets": [
  {
   "cells": [
    {
     "cell_type": "code",
     "collapsed": false,
     "input": [
      "%pylab inline"
     ],
     "language": "python",
     "metadata": {},
     "outputs": [
      {
       "output_type": "stream",
       "stream": "stdout",
       "text": [
        "Populating the interactive namespace from numpy and matplotlib\n"
       ]
      }
     ],
     "prompt_number": 1
    },
    {
     "cell_type": "code",
     "collapsed": false,
     "input": [
      "k4 = loadtxt('k4.dat', skiprows=1)\n",
      "loglog(k4[:,0], k4[:,1], 'o-')\n",
      "k8 = loadtxt('k8.dat', skiprows=1)\n",
      "loglog(k8[:,0], k8[:,1], 'o-')\n",
      "k16 = loadtxt('k16.dat', skiprows=1)\n",
      "loglog(k16[:,0], k16[:,1], 'o-')"
     ],
     "language": "python",
     "metadata": {},
     "outputs": [
      {
       "metadata": {},
       "output_type": "pyout",
       "prompt_number": 11,
       "text": [
        "[<matplotlib.lines.Line2D at 0x5477210>]"
       ]
      },
      {
       "metadata": {},
       "output_type": "display_data",
       "png": "[encoded data removed]",
       "text": [
        "<matplotlib.figure.Figure at 0x523c450>"
       ]
      }
     ],
     "prompt_number": 11
    },
    {
     "cell_type": "code",
     "collapsed": false,
     "input": [
      "k16[:,1]"
     ],
     "language": "python",
     "metadata": {},
     "outputs": [
      {
       "metadata": {},
       "output_type": "pyout",
       "prompt_number": 9,
       "text": [
        "array([  0.00000000e+00,   0.00000000e+00,   0.00000000e+00,\n",
        "         1.00000000e-06,   2.00000000e-06,   7.00000000e-06,\n",
        "         2.00000000e-05,   5.20000000e-05,   1.05000000e-04,\n",
        "         1.69000000e-04,   2.14000000e-04,   1.79000000e-04,\n",
        "         3.12000000e-04,   6.16000000e-04,   9.55000000e-04,\n",
        "         1.32700000e-03,   1.72600000e-03,   2.14600000e-03,\n",
        "         2.58000000e-03,   3.02200000e-03,   3.46800000e-03,\n",
        "         3.91400000e-03,   4.35700000e-03,   4.79600000e-03,\n",
        "         5.22700000e-03,   5.65000000e-03,   6.06300000e-03,\n",
        "         6.46700000e-03,   6.86100000e-03,   7.24400000e-03,\n",
        "         7.61600000e-03,   7.97800000e-03,   8.32900000e-03,\n",
        "         8.67100000e-03,   9.00200000e-03,   9.32300000e-03,\n",
        "         9.63500000e-03,   9.93800000e-03,   1.02320000e-02,\n",
        "         1.05170000e-02,   1.07940000e-02,   1.10640000e-02,\n",
        "         1.13250000e-02,   1.15790000e-02,   1.18260000e-02,\n",
        "         1.20660000e-02,   1.23000000e-02,   1.25270000e-02,\n",
        "         1.27480000e-02,   1.29630000e-02,   1.31730000e-02,\n",
        "         1.33770000e-02,   1.35750000e-02,   1.37690000e-02,\n",
        "         1.39570000e-02,   1.41410000e-02,   1.43190000e-02,\n",
        "         1.44940000e-02,   1.46640000e-02,   1.48290000e-02,\n",
        "         1.49910000e-02,   1.51480000e-02,   1.53020000e-02,\n",
        "         1.54520000e-02,   1.55980000e-02,   1.57400000e-02,\n",
        "         1.58800000e-02,   1.60150000e-02,   1.61480000e-02,\n",
        "         1.62770000e-02,   1.64030000e-02,   1.65260000e-02,\n",
        "         1.66460000e-02,   1.67630000e-02,   1.68780000e-02,\n",
        "         1.69900000e-02,   1.70990000e-02,   1.72060000e-02,\n",
        "         1.73100000e-02,   1.74110000e-02,   1.75110000e-02,\n",
        "         1.76080000e-02,   1.77020000e-02,   1.77950000e-02,\n",
        "         1.78860000e-02,   1.79740000e-02,   1.80600000e-02,\n",
        "         1.81450000e-02,   1.82270000e-02,   1.83080000e-02,\n",
        "         1.83870000e-02,   1.84640000e-02,   1.85390000e-02,\n",
        "         1.86130000e-02,   1.86850000e-02,   1.87560000e-02,\n",
        "         1.88250000e-02,   1.88920000e-02,   1.89580000e-02,\n",
        "         1.90230000e-02])"
       ]
      }
     ],
     "prompt_number": 9
    },
    {
     "cell_type": "code",
     "collapsed": false,
     "input": [],
     "language": "python",
     "metadata": {},
     "outputs": []
    }
   ],
   "metadata": {}
  }
 ]
}